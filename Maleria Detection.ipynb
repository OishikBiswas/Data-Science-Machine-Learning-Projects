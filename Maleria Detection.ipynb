{
 "cells": [
  {
   "cell_type": "code",
   "execution_count": 1,
   "id": "c97c690d-fca0-4ada-96b1-d26000b28c5b",
   "metadata": {},
   "outputs": [
    {
     "name": "stdout",
     "output_type": "stream",
     "text": [
      "WARNING:tensorflow:From C:\\Users\\User10\\anaconda3\\Lib\\site-packages\\keras\\src\\losses.py:2976: The name tf.losses.sparse_softmax_cross_entropy is deprecated. Please use tf.compat.v1.losses.sparse_softmax_cross_entropy instead.\n",
      "\n"
     ]
    }
   ],
   "source": [
    "from tensorflow.keras.layers import Input, Lambda, Dense, Flatten,Conv2D\n",
    "from tensorflow.keras.models import Model\n",
    "from tensorflow.keras.applications.vgg19 import VGG19\n",
    "from tensorflow.keras.applications.resnet50 import preprocess_input\n",
    "from tensorflow.keras.preprocessing import image\n",
    "from tensorflow.keras.preprocessing.image import ImageDataGenerator,load_img\n",
    "from tensorflow.keras.models import Sequential\n",
    "import numpy as np\n",
    "from glob import glob\n",
    "import matplotlib.pyplot as plt"
   ]
  },
  {
   "cell_type": "code",
   "execution_count": 2,
   "id": "fda4fc29-cf0d-4d0c-8eea-6a86fbcd1429",
   "metadata": {},
   "outputs": [],
   "source": [
    "IMAGE_SIZE=[224,224]\n",
    "train_path='Dataset/Train'\n",
    "test_path='Dataset/Test'"
   ]
  },
  {
   "cell_type": "code",
   "execution_count": 3,
   "id": "281f5c09-65d8-4f49-ab8f-19a6f2a1f294",
   "metadata": {},
   "outputs": [
    {
     "name": "stdout",
     "output_type": "stream",
     "text": [
      "WARNING:tensorflow:From C:\\Users\\User10\\anaconda3\\Lib\\site-packages\\keras\\src\\backend.py:1398: The name tf.executing_eagerly_outside_functions is deprecated. Please use tf.compat.v1.executing_eagerly_outside_functions instead.\n",
      "\n",
      "WARNING:tensorflow:From C:\\Users\\User10\\anaconda3\\Lib\\site-packages\\keras\\src\\layers\\pooling\\max_pooling2d.py:161: The name tf.nn.max_pool is deprecated. Please use tf.nn.max_pool2d instead.\n",
      "\n"
     ]
    }
   ],
   "source": [
    "mobilnet=VGG19(input_shape=IMAGE_SIZE+[3],weights='imagenet', include_top=False)"
   ]
  },
  {
   "cell_type": "code",
   "execution_count": 4,
   "id": "5e08e6d1-28b1-4a7a-8d15-3d8ed1dff76a",
   "metadata": {},
   "outputs": [],
   "source": [
    "for layer in mobilnet.layers:\n",
    "    layer.trainable=False"
   ]
  },
  {
   "cell_type": "code",
   "execution_count": 5,
   "id": "9bbf1a00-78c7-407e-83ab-b44c0d489d4c",
   "metadata": {},
   "outputs": [],
   "source": [
    "folders = glob('Dataset/Train/*')"
   ]
  },
  {
   "cell_type": "code",
   "execution_count": 6,
   "id": "a0cf8f8b-6417-41b8-a6ad-dc351026f9e0",
   "metadata": {},
   "outputs": [
    {
     "data": {
      "text/plain": [
       "['Dataset/Train\\\\Parasite', 'Dataset/Train\\\\Uninfected']"
      ]
     },
     "execution_count": 6,
     "metadata": {},
     "output_type": "execute_result"
    }
   ],
   "source": [
    "folders"
   ]
  },
  {
   "cell_type": "code",
   "execution_count": 7,
   "id": "0db4e0a7-290d-475d-98df-902edadb6537",
   "metadata": {},
   "outputs": [],
   "source": [
    "x=Flatten()(mobilnet.output)"
   ]
  },
  {
   "cell_type": "code",
   "execution_count": 8,
   "id": "5c1c8878-ad93-4a24-b03a-6ae8926b59f9",
   "metadata": {},
   "outputs": [],
   "source": [
    "prediction=Dense(len(folders),activation='softmax')(x)"
   ]
  },
  {
   "cell_type": "code",
   "execution_count": 9,
   "id": "3e15973d-6de2-4d57-8a8b-0bf5d7513b8b",
   "metadata": {},
   "outputs": [],
   "source": [
    "model=Model(inputs=mobilnet.input,outputs=prediction)"
   ]
  },
  {
   "cell_type": "code",
   "execution_count": 10,
   "id": "432cbcfb-d9fb-4b1d-99d1-acb1cec42c39",
   "metadata": {},
   "outputs": [
    {
     "name": "stdout",
     "output_type": "stream",
     "text": [
      "Model: \"model\"\n",
      "_________________________________________________________________\n",
      " Layer (type)                Output Shape              Param #   \n",
      "=================================================================\n",
      " input_1 (InputLayer)        [(None, 224, 224, 3)]     0         \n",
      "                                                                 \n",
      " block1_conv1 (Conv2D)       (None, 224, 224, 64)      1792      \n",
      "                                                                 \n",
      " block1_conv2 (Conv2D)       (None, 224, 224, 64)      36928     \n",
      "                                                                 \n",
      " block1_pool (MaxPooling2D)  (None, 112, 112, 64)      0         \n",
      "                                                                 \n",
      " block2_conv1 (Conv2D)       (None, 112, 112, 128)     73856     \n",
      "                                                                 \n",
      " block2_conv2 (Conv2D)       (None, 112, 112, 128)     147584    \n",
      "                                                                 \n",
      " block2_pool (MaxPooling2D)  (None, 56, 56, 128)       0         \n",
      "                                                                 \n",
      " block3_conv1 (Conv2D)       (None, 56, 56, 256)       295168    \n",
      "                                                                 \n",
      " block3_conv2 (Conv2D)       (None, 56, 56, 256)       590080    \n",
      "                                                                 \n",
      " block3_conv3 (Conv2D)       (None, 56, 56, 256)       590080    \n",
      "                                                                 \n",
      " block3_conv4 (Conv2D)       (None, 56, 56, 256)       590080    \n",
      "                                                                 \n",
      " block3_pool (MaxPooling2D)  (None, 28, 28, 256)       0         \n",
      "                                                                 \n",
      " block4_conv1 (Conv2D)       (None, 28, 28, 512)       1180160   \n",
      "                                                                 \n",
      " block4_conv2 (Conv2D)       (None, 28, 28, 512)       2359808   \n",
      "                                                                 \n",
      " block4_conv3 (Conv2D)       (None, 28, 28, 512)       2359808   \n",
      "                                                                 \n",
      " block4_conv4 (Conv2D)       (None, 28, 28, 512)       2359808   \n",
      "                                                                 \n",
      " block4_pool (MaxPooling2D)  (None, 14, 14, 512)       0         \n",
      "                                                                 \n",
      " block5_conv1 (Conv2D)       (None, 14, 14, 512)       2359808   \n",
      "                                                                 \n",
      " block5_conv2 (Conv2D)       (None, 14, 14, 512)       2359808   \n",
      "                                                                 \n",
      " block5_conv3 (Conv2D)       (None, 14, 14, 512)       2359808   \n",
      "                                                                 \n",
      " block5_conv4 (Conv2D)       (None, 14, 14, 512)       2359808   \n",
      "                                                                 \n",
      " block5_pool (MaxPooling2D)  (None, 7, 7, 512)         0         \n",
      "                                                                 \n",
      " flatten (Flatten)           (None, 25088)             0         \n",
      "                                                                 \n",
      " dense (Dense)               (None, 2)                 50178     \n",
      "                                                                 \n",
      "=================================================================\n",
      "Total params: 20074562 (76.58 MB)\n",
      "Trainable params: 50178 (196.01 KB)\n",
      "Non-trainable params: 20024384 (76.39 MB)\n",
      "_________________________________________________________________\n"
     ]
    }
   ],
   "source": [
    "model.summary()"
   ]
  },
  {
   "cell_type": "code",
   "execution_count": 11,
   "id": "22974b49-1ff1-44eb-b9e9-14b31aeef16b",
   "metadata": {},
   "outputs": [],
   "source": [
    "from tensorflow.keras.layers import MaxPooling2D"
   ]
  },
  {
   "cell_type": "code",
   "execution_count": 12,
   "id": "3b58d301-70cf-4ca8-be10-451334e7d041",
   "metadata": {},
   "outputs": [
    {
     "name": "stdout",
     "output_type": "stream",
     "text": [
      "Model: \"sequential\"\n",
      "_________________________________________________________________\n",
      " Layer (type)                Output Shape              Param #   \n",
      "=================================================================\n",
      " conv2d (Conv2D)             (None, 224, 224, 16)      208       \n",
      "                                                                 \n",
      " max_pooling2d (MaxPooling2  (None, 112, 112, 16)      0         \n",
      " D)                                                              \n",
      "                                                                 \n",
      " conv2d_1 (Conv2D)           (None, 112, 112, 32)      2080      \n",
      "                                                                 \n",
      " max_pooling2d_1 (MaxPoolin  (None, 56, 56, 32)        0         \n",
      " g2D)                                                            \n",
      "                                                                 \n",
      " conv2d_2 (Conv2D)           (None, 56, 56, 64)        8256      \n",
      "                                                                 \n",
      " max_pooling2d_2 (MaxPoolin  (None, 28, 28, 64)        0         \n",
      " g2D)                                                            \n",
      "                                                                 \n",
      " flatten_1 (Flatten)         (None, 50176)             0         \n",
      "                                                                 \n",
      " dense_1 (Dense)             (None, 500)               25088500  \n",
      "                                                                 \n",
      " dense_2 (Dense)             (None, 2)                 1002      \n",
      "                                                                 \n",
      "=================================================================\n",
      "Total params: 25100046 (95.75 MB)\n",
      "Trainable params: 25100046 (95.75 MB)\n",
      "Non-trainable params: 0 (0.00 Byte)\n",
      "_________________________________________________________________\n"
     ]
    }
   ],
   "source": [
    "model=Sequential()\n",
    "model.add(Conv2D(filters=16,kernel_size=2,padding='same',activation='relu',input_shape=(224,224,3)))\n",
    "model.add(MaxPooling2D(pool_size=2))\n",
    "model.add(Conv2D(filters=32,kernel_size=2,padding='same',activation='relu'))\n",
    "model.add(MaxPooling2D(pool_size=2))\n",
    "model.add(Conv2D(filters=64,kernel_size=2,padding='same',activation='relu'))\n",
    "model.add(MaxPooling2D(pool_size=2))\n",
    "model.add(Flatten())\n",
    "model.add(Dense(500,activation='relu'))\n",
    "model.add(Dense(2,activation='softmax'))\n",
    "model.summary()"
   ]
  },
  {
   "cell_type": "code",
   "execution_count": 13,
   "id": "9b19f74d-cd53-41a5-b0a7-c80f00594bc5",
   "metadata": {},
   "outputs": [
    {
     "name": "stdout",
     "output_type": "stream",
     "text": [
      "WARNING:tensorflow:From C:\\Users\\User10\\anaconda3\\Lib\\site-packages\\keras\\src\\optimizers\\__init__.py:309: The name tf.train.Optimizer is deprecated. Please use tf.compat.v1.train.Optimizer instead.\n",
      "\n"
     ]
    }
   ],
   "source": [
    "model.compile(loss='categorical_crossentropy', optimizer='adam', metrics=['accuracy'])"
   ]
  },
  {
   "cell_type": "code",
   "execution_count": 14,
   "id": "fd1340c2-fe12-4134-8a65-f1627e86fbd4",
   "metadata": {},
   "outputs": [],
   "source": [
    "from tensorflow.keras.preprocessing.image import ImageDataGenerator\n"
   ]
  },
  {
   "cell_type": "code",
   "execution_count": 15,
   "id": "09f8f818-9dfb-4223-9a40-d0250d034ce9",
   "metadata": {},
   "outputs": [],
   "source": [
    "train_datagen=ImageDataGenerator(rescale=1./255,\n",
    "                                 shear_range=0.2,\n",
    "                                 zoom_range=0.2,\n",
    "                                 horizontal_flip=True)\n",
    "\n",
    "test_datagen=ImageDataGenerator(rescale=1./255)"
   ]
  },
  {
   "cell_type": "code",
   "execution_count": 16,
   "id": "b2d610dd-e0fe-4aa8-9e41-b725681049cd",
   "metadata": {},
   "outputs": [
    {
     "name": "stdout",
     "output_type": "stream",
     "text": [
      "Found 416 images belonging to 2 classes.\n"
     ]
    }
   ],
   "source": [
    "training_set=train_datagen.flow_from_directory('Dataset/Train',\n",
    "                                               target_size=(224,224),\n",
    "                                               batch_size=32,\n",
    "                                               class_mode='categorical')"
   ]
  },
  {
   "cell_type": "code",
   "execution_count": 17,
   "id": "0a9c0cfb-0a07-412f-9e4b-2cee079b2fb4",
   "metadata": {},
   "outputs": [
    {
     "data": {
      "text/plain": [
       "<keras.src.preprocessing.image.DirectoryIterator at 0x196f8d0e650>"
      ]
     },
     "execution_count": 17,
     "metadata": {},
     "output_type": "execute_result"
    }
   ],
   "source": [
    "training_set"
   ]
  },
  {
   "cell_type": "code",
   "execution_count": 18,
   "id": "b41f071d-b38d-47d5-ac4f-043aeb1d914a",
   "metadata": {},
   "outputs": [
    {
     "name": "stdout",
     "output_type": "stream",
     "text": [
      "Found 134 images belonging to 2 classes.\n"
     ]
    }
   ],
   "source": [
    "test_set=test_datagen.flow_from_directory('Dataset/Test',\n",
    "                                          target_size=(224,224),\n",
    "                                          batch_size=32,\n",
    "                                          class_mode='categorical')"
   ]
  },
  {
   "cell_type": "code",
   "execution_count": 19,
   "id": "585f9242-c349-46f2-9933-da55f22ece65",
   "metadata": {},
   "outputs": [
    {
     "data": {
      "text/plain": [
       "<keras.src.preprocessing.image.DirectoryIterator at 0x19684cb4e10>"
      ]
     },
     "execution_count": 19,
     "metadata": {},
     "output_type": "execute_result"
    }
   ],
   "source": [
    "test_set"
   ]
  },
  {
   "cell_type": "code",
   "execution_count": 21,
   "id": "864f884b-1520-4681-946b-ee578ef5ac71",
   "metadata": {},
   "outputs": [
    {
     "name": "stderr",
     "output_type": "stream",
     "text": [
      "C:\\Users\\User10\\AppData\\Local\\Temp\\ipykernel_1032\\2608189736.py:1: UserWarning: `Model.fit_generator` is deprecated and will be removed in a future version. Please use `Model.fit`, which supports generators.\n",
      "  r=model.fit_generator(\n"
     ]
    },
    {
     "name": "stdout",
     "output_type": "stream",
     "text": [
      "Epoch 1/50\n",
      "WARNING:tensorflow:From C:\\Users\\User10\\anaconda3\\Lib\\site-packages\\keras\\src\\utils\\tf_utils.py:492: The name tf.ragged.RaggedTensorValue is deprecated. Please use tf.compat.v1.ragged.RaggedTensorValue instead.\n",
      "\n",
      "WARNING:tensorflow:From C:\\Users\\User10\\anaconda3\\Lib\\site-packages\\keras\\src\\engine\\base_layer_utils.py:384: The name tf.executing_eagerly_outside_functions is deprecated. Please use tf.compat.v1.executing_eagerly_outside_functions instead.\n",
      "\n",
      "13/13 [==============================] - 21s 1s/step - loss: 1.2735 - accuracy: 0.4976 - val_loss: 0.6437 - val_accuracy: 0.6791\n",
      "Epoch 2/50\n",
      "13/13 [==============================] - 11s 806ms/step - loss: 0.6689 - accuracy: 0.5938 - val_loss: 0.7055 - val_accuracy: 0.4552\n",
      "Epoch 3/50\n",
      "13/13 [==============================] - 14s 1s/step - loss: 0.5780 - accuracy: 0.6923 - val_loss: 0.9918 - val_accuracy: 0.3657\n",
      "Epoch 4/50\n",
      "13/13 [==============================] - 14s 1s/step - loss: 0.4655 - accuracy: 0.7596 - val_loss: 0.8882 - val_accuracy: 0.3358\n",
      "Epoch 5/50\n",
      "13/13 [==============================] - 12s 892ms/step - loss: 0.4071 - accuracy: 0.8197 - val_loss: 0.9537 - val_accuracy: 0.4403\n",
      "Epoch 6/50\n",
      "13/13 [==============================] - 11s 845ms/step - loss: 0.4027 - accuracy: 0.8125 - val_loss: 0.5597 - val_accuracy: 0.6119\n",
      "Epoch 7/50\n",
      "13/13 [==============================] - 10s 758ms/step - loss: 0.3351 - accuracy: 0.8822 - val_loss: 0.5782 - val_accuracy: 0.6716\n",
      "Epoch 8/50\n",
      "13/13 [==============================] - 11s 786ms/step - loss: 0.2684 - accuracy: 0.9062 - val_loss: 0.4761 - val_accuracy: 0.7687\n",
      "Epoch 9/50\n",
      "13/13 [==============================] - 11s 874ms/step - loss: 0.2462 - accuracy: 0.9111 - val_loss: 0.3750 - val_accuracy: 0.8134\n",
      "Epoch 10/50\n",
      "13/13 [==============================] - 11s 854ms/step - loss: 0.2095 - accuracy: 0.9231 - val_loss: 0.4384 - val_accuracy: 0.8060\n",
      "Epoch 11/50\n",
      "13/13 [==============================] - 11s 828ms/step - loss: 0.1605 - accuracy: 0.9471 - val_loss: 0.4161 - val_accuracy: 0.7910\n",
      "Epoch 12/50\n",
      "13/13 [==============================] - 12s 878ms/step - loss: 0.1483 - accuracy: 0.9471 - val_loss: 0.2912 - val_accuracy: 0.8731\n",
      "Epoch 13/50\n",
      "13/13 [==============================] - 12s 901ms/step - loss: 0.1448 - accuracy: 0.9471 - val_loss: 0.2870 - val_accuracy: 0.9030\n",
      "Epoch 14/50\n",
      "13/13 [==============================] - 10s 772ms/step - loss: 0.1303 - accuracy: 0.9543 - val_loss: 0.3285 - val_accuracy: 0.8433\n",
      "Epoch 15/50\n",
      "13/13 [==============================] - 10s 774ms/step - loss: 0.1370 - accuracy: 0.9519 - val_loss: 0.3433 - val_accuracy: 0.7910\n",
      "Epoch 16/50\n",
      "13/13 [==============================] - 10s 785ms/step - loss: 0.1219 - accuracy: 0.9615 - val_loss: 0.5292 - val_accuracy: 0.7910\n",
      "Epoch 17/50\n",
      "13/13 [==============================] - 10s 743ms/step - loss: 0.1018 - accuracy: 0.9688 - val_loss: 0.1991 - val_accuracy: 0.9179\n",
      "Epoch 18/50\n",
      "13/13 [==============================] - 10s 797ms/step - loss: 0.1014 - accuracy: 0.9663 - val_loss: 0.2766 - val_accuracy: 0.8955\n",
      "Epoch 19/50\n",
      "13/13 [==============================] - 11s 810ms/step - loss: 0.0748 - accuracy: 0.9832 - val_loss: 0.2297 - val_accuracy: 0.8955\n",
      "Epoch 20/50\n",
      "13/13 [==============================] - 11s 807ms/step - loss: 0.0922 - accuracy: 0.9760 - val_loss: 0.3834 - val_accuracy: 0.8806\n",
      "Epoch 21/50\n",
      "13/13 [==============================] - 11s 872ms/step - loss: 0.0735 - accuracy: 0.9808 - val_loss: 0.2204 - val_accuracy: 0.8955\n",
      "Epoch 22/50\n",
      "13/13 [==============================] - 11s 856ms/step - loss: 0.1001 - accuracy: 0.9784 - val_loss: 0.6701 - val_accuracy: 0.7910\n",
      "Epoch 23/50\n",
      "13/13 [==============================] - 11s 816ms/step - loss: 0.1181 - accuracy: 0.9712 - val_loss: 0.3400 - val_accuracy: 0.8731\n",
      "Epoch 24/50\n",
      "13/13 [==============================] - 11s 849ms/step - loss: 0.0908 - accuracy: 0.9784 - val_loss: 0.2922 - val_accuracy: 0.9030\n",
      "Epoch 25/50\n",
      "13/13 [==============================] - 11s 810ms/step - loss: 0.0756 - accuracy: 0.9784 - val_loss: 0.3563 - val_accuracy: 0.8806\n",
      "Epoch 26/50\n",
      "13/13 [==============================] - 10s 748ms/step - loss: 0.0751 - accuracy: 0.9856 - val_loss: 0.3933 - val_accuracy: 0.8806\n",
      "Epoch 27/50\n",
      "13/13 [==============================] - 10s 781ms/step - loss: 0.0486 - accuracy: 0.9856 - val_loss: 0.2305 - val_accuracy: 0.9104\n",
      "Epoch 28/50\n",
      "13/13 [==============================] - 10s 797ms/step - loss: 0.0533 - accuracy: 0.9856 - val_loss: 0.2633 - val_accuracy: 0.8955\n",
      "Epoch 29/50\n",
      "13/13 [==============================] - 10s 753ms/step - loss: 0.0362 - accuracy: 0.9904 - val_loss: 0.3880 - val_accuracy: 0.8881\n",
      "Epoch 30/50\n",
      "13/13 [==============================] - 11s 856ms/step - loss: 0.0464 - accuracy: 0.9856 - val_loss: 0.2416 - val_accuracy: 0.9104\n",
      "Epoch 31/50\n",
      "13/13 [==============================] - 12s 886ms/step - loss: 0.0403 - accuracy: 0.9928 - val_loss: 0.2764 - val_accuracy: 0.9030\n",
      "Epoch 32/50\n",
      "13/13 [==============================] - 12s 932ms/step - loss: 0.0263 - accuracy: 0.9928 - val_loss: 0.3102 - val_accuracy: 0.9104\n",
      "Epoch 33/50\n",
      "13/13 [==============================] - 13s 998ms/step - loss: 0.1027 - accuracy: 0.9856 - val_loss: 0.6546 - val_accuracy: 0.8657\n",
      "Epoch 34/50\n",
      "13/13 [==============================] - 12s 920ms/step - loss: 0.1316 - accuracy: 0.9615 - val_loss: 0.3109 - val_accuracy: 0.8731\n",
      "Epoch 35/50\n",
      "13/13 [==============================] - 14s 1s/step - loss: 0.0953 - accuracy: 0.9712 - val_loss: 0.2765 - val_accuracy: 0.8881\n",
      "Epoch 36/50\n",
      "13/13 [==============================] - 12s 890ms/step - loss: 0.0389 - accuracy: 0.9928 - val_loss: 0.4996 - val_accuracy: 0.8806\n",
      "Epoch 37/50\n",
      "13/13 [==============================] - 11s 798ms/step - loss: 0.0226 - accuracy: 0.9952 - val_loss: 0.3717 - val_accuracy: 0.9179\n",
      "Epoch 38/50\n",
      "13/13 [==============================] - 11s 840ms/step - loss: 0.0789 - accuracy: 0.9736 - val_loss: 0.3574 - val_accuracy: 0.8806\n",
      "Epoch 39/50\n",
      "13/13 [==============================] - 12s 889ms/step - loss: 0.0529 - accuracy: 0.9904 - val_loss: 0.2956 - val_accuracy: 0.8955\n",
      "Epoch 40/50\n",
      "13/13 [==============================] - 11s 843ms/step - loss: 0.0343 - accuracy: 0.9928 - val_loss: 0.3024 - val_accuracy: 0.9179\n",
      "Epoch 41/50\n",
      "13/13 [==============================] - 12s 871ms/step - loss: 0.0207 - accuracy: 0.9952 - val_loss: 0.4641 - val_accuracy: 0.8881\n",
      "Epoch 42/50\n",
      "13/13 [==============================] - 11s 833ms/step - loss: 0.0622 - accuracy: 0.9904 - val_loss: 0.5846 - val_accuracy: 0.8582\n",
      "Epoch 43/50\n",
      "13/13 [==============================] - 11s 826ms/step - loss: 0.0882 - accuracy: 0.9688 - val_loss: 0.2360 - val_accuracy: 0.9030\n",
      "Epoch 44/50\n",
      "13/13 [==============================] - 11s 817ms/step - loss: 0.0420 - accuracy: 0.9976 - val_loss: 0.3189 - val_accuracy: 0.9104\n",
      "Epoch 45/50\n",
      "13/13 [==============================] - 11s 837ms/step - loss: 0.0194 - accuracy: 0.9952 - val_loss: 0.5671 - val_accuracy: 0.8806\n",
      "Epoch 46/50\n",
      "13/13 [==============================] - 13s 989ms/step - loss: 0.0935 - accuracy: 0.9784 - val_loss: 0.2811 - val_accuracy: 0.8881\n",
      "Epoch 47/50\n",
      "13/13 [==============================] - 11s 870ms/step - loss: 0.0572 - accuracy: 0.9904 - val_loss: 0.1758 - val_accuracy: 0.9254\n",
      "Epoch 48/50\n",
      "13/13 [==============================] - 11s 852ms/step - loss: 0.0223 - accuracy: 0.9952 - val_loss: 0.3859 - val_accuracy: 0.9030\n",
      "Epoch 49/50\n",
      "13/13 [==============================] - 13s 963ms/step - loss: 0.0200 - accuracy: 0.9928 - val_loss: 0.4686 - val_accuracy: 0.8881\n",
      "Epoch 50/50\n",
      "13/13 [==============================] - 13s 975ms/step - loss: 0.0496 - accuracy: 0.9856 - val_loss: 0.2024 - val_accuracy: 0.9254\n"
     ]
    }
   ],
   "source": [
    "r=model.fit_generator(\n",
    "    training_set,\n",
    "    validation_data=test_set,\n",
    "    epochs=50,\n",
    "    steps_per_epoch=len(training_set),\n",
    "    validation_steps=len(test_set)\n",
    ")"
   ]
  },
  {
   "cell_type": "code",
   "execution_count": 23,
   "id": "a386e4f9-d5a1-4c21-84cc-3569f66decbe",
   "metadata": {},
   "outputs": [
    {
     "data": {
      "image/png": "[encoded data removed]",
      "text/plain": [
       "<Figure size 640x480 with 1 Axes>"
      ]
     },
     "metadata": {},
     "output_type": "display_data"
    },
    {
     "data": {
      "text/plain": [
       "<Figure size 640x480 with 0 Axes>"
      ]
     },
     "metadata": {},
     "output_type": "display_data"
    }
   ],
   "source": [
    "plt.plot(r.history['loss'],label='train loss')\n",
    "plt.plot(r.history['val_loss'],label='val loss')\n",
    "plt.legend()\n",
    "plt.show()\n",
    "plt.savefig('LossVal_loss')"
   ]
  },
  {
   "cell_type": "code",
   "execution_count": 24,
   "id": "8d00442c-f1d0-4a7d-b9b3-557bc1105a70",
   "metadata": {},
   "outputs": [
    {
     "data": {
      "image/png": "[encoded data removed]",
      "text/plain": [
       "<Figure size 640x480 with 1 Axes>"
      ]
     },
     "metadata": {},
     "output_type": "display_data"
    },
    {
     "data": {
      "text/plain": [
       "<Figure size 640x480 with 0 Axes>"
      ]
     },
     "metadata": {},
     "output_type": "display_data"
    }
   ],
   "source": [
    "plt.plot(r.history['accuracy'],label='train accuracy')\n",
    "plt.plot(r.history['val_accuracy'],label='val accuracy')\n",
    "plt.legend()\n",
    "plt.show()\n",
    "plt.savefig('AccVal_accuracy')"
   ]
  },
  {
   "cell_type": "code",
   "execution_count": 25,
   "id": "d176a296-3e02-4306-a31a-3ff9d5144b83",
   "metadata": {},
   "outputs": [
    {
     "name": "stderr",
     "output_type": "stream",
     "text": [
      "C:\\Users\\User10\\anaconda3\\Lib\\site-packages\\keras\\src\\engine\\training.py:3103: UserWarning: You are saving your model as an HDF5 file via `model.save()`. This file format is considered legacy. We recommend using instead the native Keras format, e.g. `model.save('my_model.keras')`.\n",
      "  saving_api.save_model(\n"
     ]
    }
   ],
   "source": [
    "from tensorflow.keras.models import load_model\n",
    "model.save('model_vgg19.h5')"
   ]
  },
  {
   "cell_type": "code",
   "execution_count": 26,
   "id": "553ca2eb-bbbd-4ef3-ab45-d3605c67cdfe",
   "metadata": {},
   "outputs": [
    {
     "name": "stdout",
     "output_type": "stream",
     "text": [
      "5/5 [==============================] - 4s 170ms/step\n"
     ]
    }
   ],
   "source": [
    "y_pred=model.predict(test_set)"
   ]
  },
  {
   "cell_type": "code",
   "execution_count": 27,
   "id": "7917d98f-d9f5-4368-85d7-05b7ef758a85",
   "metadata": {},
   "outputs": [
    {
     "data": {
      "text/plain": [
       "array([[3.08798999e-01, 6.91201031e-01],\n",
       "       [2.08915994e-02, 9.79108393e-01],\n",
       "       [1.19390888e-02, 9.88060832e-01],\n",
       "       [1.00000000e+00, 1.01415167e-13],\n",
       "       [9.99989152e-01, 1.08029089e-05],\n",
       "       [9.99999762e-01, 2.20604136e-07],\n",
       "       [1.00000000e+00, 1.28192760e-20],\n",
       "       [1.00000000e+00, 2.21019167e-08],\n",
       "       [4.82400544e-02, 9.51759994e-01],\n",
       "       [1.16266524e-02, 9.88373339e-01],\n",
       "       [7.98274390e-03, 9.92017269e-01],\n",
       "       [1.00000000e+00, 1.21866688e-12],\n",
       "       [1.62139282e-01, 8.37860703e-01],\n",
       "       [1.00000000e+00, 1.13536850e-22],\n",
       "       [6.60024583e-02, 9.33997512e-01],\n",
       "       [9.95793343e-01, 4.20660945e-03],\n",
       "       [1.00000000e+00, 7.89135957e-09],\n",
       "       [1.00000000e+00, 1.33401258e-18],\n",
       "       [4.73670736e-02, 9.52632904e-01],\n",
       "       [9.98004496e-01, 1.99549785e-03],\n",
       "       [9.99999046e-01, 8.98302460e-07],\n",
       "       [1.00000000e+00, 1.86514883e-11],\n",
       "       [9.99999046e-01, 9.36832691e-07],\n",
       "       [1.00000000e+00, 1.15182050e-12],\n",
       "       [7.38444226e-03, 9.92615581e-01],\n",
       "       [9.99999881e-01, 1.58311849e-07],\n",
       "       [1.00000000e+00, 3.26048494e-10],\n",
       "       [9.99993801e-01, 6.17347132e-06],\n",
       "       [1.00000000e+00, 1.61764483e-17],\n",
       "       [1.00000000e+00, 1.36216078e-08],\n",
       "       [2.97719110e-02, 9.70228136e-01],\n",
       "       [3.87926400e-02, 9.61207390e-01],\n",
       "       [1.82119384e-02, 9.81788039e-01],\n",
       "       [9.99924302e-01, 7.56573208e-05],\n",
       "       [1.00000000e+00, 3.01162829e-17],\n",
       "       [1.64433476e-02, 9.83556628e-01],\n",
       "       [2.77216047e-01, 7.22783923e-01],\n",
       "       [9.99999285e-01, 7.49188359e-07],\n",
       "       [9.99967456e-01, 3.25740330e-05],\n",
       "       [9.99999881e-01, 1.37207778e-07],\n",
       "       [1.00000000e+00, 5.23483991e-19],\n",
       "       [5.12295328e-02, 9.48770463e-01],\n",
       "       [3.05156223e-02, 9.69484389e-01],\n",
       "       [1.87160037e-02, 9.81283963e-01],\n",
       "       [1.00000000e+00, 1.02574130e-11],\n",
       "       [1.00000000e+00, 4.52885091e-10],\n",
       "       [1.73822362e-02, 9.82617795e-01],\n",
       "       [9.99999762e-01, 1.96193852e-07],\n",
       "       [5.03735878e-02, 9.49626446e-01],\n",
       "       [4.56942581e-02, 9.54305768e-01],\n",
       "       [9.99999881e-01, 9.12537743e-08],\n",
       "       [9.85076010e-01, 1.49239767e-02],\n",
       "       [9.58584368e-01, 4.14156541e-02],\n",
       "       [1.00000000e+00, 3.75151958e-11],\n",
       "       [1.00000000e+00, 2.14245133e-09],\n",
       "       [9.99998450e-01, 1.56715794e-06],\n",
       "       [1.00000000e+00, 0.00000000e+00],\n",
       "       [4.82153222e-02, 9.51784730e-01],\n",
       "       [1.00000000e+00, 5.56389143e-14],\n",
       "       [1.44228652e-01, 8.55771363e-01],\n",
       "       [2.82595884e-02, 9.71740365e-01],\n",
       "       [2.50588506e-02, 9.74941134e-01],\n",
       "       [1.00000000e+00, 4.54566983e-12],\n",
       "       [1.00000000e+00, 3.21363249e-12],\n",
       "       [3.37638110e-02, 9.66236234e-01],\n",
       "       [2.92258352e-01, 7.07741618e-01],\n",
       "       [3.57511565e-02, 9.64248836e-01],\n",
       "       [1.00000000e+00, 1.75996737e-17],\n",
       "       [3.22230130e-01, 6.77769840e-01],\n",
       "       [1.00000000e+00, 4.57704848e-36],\n",
       "       [9.99905229e-01, 9.48204615e-05],\n",
       "       [9.99999881e-01, 1.55931488e-07],\n",
       "       [9.99999762e-01, 2.25972855e-07],\n",
       "       [1.00000000e+00, 0.00000000e+00],\n",
       "       [1.00000000e+00, 2.71045419e-15],\n",
       "       [1.00000000e+00, 1.45899074e-11],\n",
       "       [1.00000000e+00, 1.00761230e-08],\n",
       "       [1.00000000e+00, 1.15806789e-12],\n",
       "       [1.00000000e+00, 4.65196548e-09],\n",
       "       [3.78090441e-01, 6.21909499e-01],\n",
       "       [4.78733890e-03, 9.95212674e-01],\n",
       "       [8.52513790e-01, 1.47486225e-01],\n",
       "       [1.00000000e+00, 6.71531719e-10],\n",
       "       [9.99999881e-01, 1.06514044e-07],\n",
       "       [8.47673565e-02, 9.15232658e-01],\n",
       "       [9.85832691e-01, 1.41673582e-02],\n",
       "       [1.64573684e-01, 8.35426390e-01],\n",
       "       [1.19539779e-02, 9.88046050e-01],\n",
       "       [1.00000000e+00, 0.00000000e+00],\n",
       "       [8.62857327e-02, 9.13714290e-01],\n",
       "       [1.00000000e+00, 5.65407855e-13],\n",
       "       [1.98933743e-02, 9.80106592e-01],\n",
       "       [2.76495498e-02, 9.72350419e-01],\n",
       "       [1.00000000e+00, 5.17646204e-10],\n",
       "       [9.99999762e-01, 2.76332770e-07],\n",
       "       [1.00000000e+00, 1.44379883e-14],\n",
       "       [1.00000000e+00, 2.90273694e-09],\n",
       "       [1.00000000e+00, 0.00000000e+00],\n",
       "       [1.00000000e+00, 9.44030618e-21],\n",
       "       [1.00000000e+00, 8.54212881e-11],\n",
       "       [9.99997497e-01, 2.52650830e-06],\n",
       "       [2.29456406e-02, 9.77054417e-01],\n",
       "       [1.00000000e+00, 8.22855572e-27],\n",
       "       [9.99999404e-01, 6.11685607e-07],\n",
       "       [1.61610506e-02, 9.83838916e-01],\n",
       "       [1.00000000e+00, 4.06394952e-18],\n",
       "       [3.07282209e-01, 6.92717850e-01],\n",
       "       [3.96628827e-02, 9.60337102e-01],\n",
       "       [9.99997973e-01, 2.02235833e-06],\n",
       "       [1.85366534e-02, 9.81463313e-01],\n",
       "       [3.50148529e-02, 9.64985132e-01],\n",
       "       [9.99805152e-01, 1.94899359e-04],\n",
       "       [1.00000000e+00, 2.95537358e-13],\n",
       "       [8.61341655e-01, 1.38658404e-01],\n",
       "       [3.99643391e-01, 6.00356638e-01],\n",
       "       [9.99762475e-01, 2.37486704e-04],\n",
       "       [7.47320289e-03, 9.92526770e-01],\n",
       "       [1.82589237e-02, 9.81741011e-01],\n",
       "       [9.86343026e-01, 1.36569887e-02],\n",
       "       [7.04771131e-02, 9.29522932e-01],\n",
       "       [1.00000000e+00, 4.75171223e-17],\n",
       "       [1.16707169e-01, 8.83292794e-01],\n",
       "       [7.01322034e-02, 9.29867804e-01],\n",
       "       [1.00000000e+00, 1.75698933e-09],\n",
       "       [3.51697057e-02, 9.64830279e-01],\n",
       "       [1.00000000e+00, 2.59706425e-08],\n",
       "       [1.00000000e+00, 2.22207781e-08],\n",
       "       [1.00000000e+00, 1.56518168e-15],\n",
       "       [9.99611437e-01, 3.88638116e-04],\n",
       "       [1.41295921e-02, 9.85870421e-01],\n",
       "       [2.90596634e-02, 9.70940351e-01],\n",
       "       [3.71878058e-01, 6.28121912e-01],\n",
       "       [1.00000000e+00, 2.46078737e-32],\n",
       "       [1.00000000e+00, 7.68516127e-15]], dtype=float32)"
      ]
     },
     "execution_count": 27,
     "metadata": {},
     "output_type": "execute_result"
    }
   ],
   "source": [
    "y_pred"
   ]
  },
  {
   "cell_type": "code",
   "execution_count": 28,
   "id": "10d77a42-b507-4779-af54-a149a697fce2",
   "metadata": {},
   "outputs": [],
   "source": [
    "import numpy as np\n",
    "y_pred=np.argmax(y_pred,axis=1)"
   ]
  },
  {
   "cell_type": "code",
   "execution_count": 29,
   "id": "7061d026-fd6d-4071-b680-af8e3d72d293",
   "metadata": {},
   "outputs": [
    {
     "data": {
      "text/plain": [
       "array([1, 1, 1, 0, 0, 0, 0, 0, 1, 1, 1, 0, 1, 0, 1, 0, 0, 0, 1, 0, 0, 0,\n",
       "       0, 0, 1, 0, 0, 0, 0, 0, 1, 1, 1, 0, 0, 1, 1, 0, 0, 0, 0, 1, 1, 1,\n",
       "       0, 0, 1, 0, 1, 1, 0, 0, 0, 0, 0, 0, 0, 1, 0, 1, 1, 1, 0, 0, 1, 1,\n",
       "       1, 0, 1, 0, 0, 0, 0, 0, 0, 0, 0, 0, 0, 1, 1, 0, 0, 0, 1, 0, 1, 1,\n",
       "       0, 1, 0, 1, 1, 0, 0, 0, 0, 0, 0, 0, 0, 1, 0, 0, 1, 0, 1, 1, 0, 1,\n",
       "       1, 0, 0, 0, 1, 0, 1, 1, 0, 1, 0, 1, 1, 0, 1, 0, 0, 0, 0, 1, 1, 1,\n",
       "       0, 0], dtype=int64)"
      ]
     },
     "execution_count": 29,
     "metadata": {},
     "output_type": "execute_result"
    }
   ],
   "source": [
    "y_pred"
   ]
  },
  {
   "cell_type": "code",
   "execution_count": 30,
   "id": "f10badfd-2dc4-4431-897b-e76ed85af60c",
   "metadata": {},
   "outputs": [],
   "source": [
    "from tensorflow.keras.preprocessing import image"
   ]
  },
  {
   "cell_type": "code",
   "execution_count": 31,
   "id": "360bd3e4-dcc4-44e0-bc7d-91d0dc9957d1",
   "metadata": {},
   "outputs": [],
   "source": [
    "img=image.load_img('Dataset/Test/Uninfected/2.png',target_size=(224,224))"
   ]
  },
  {
   "cell_type": "code",
   "execution_count": 32,
   "id": "dd8db666-1535-4bdb-9494-4ad3e1e46a1a",
   "metadata": {},
   "outputs": [
    {
     "data": {
      "text/plain": [
       "array([[[0., 0., 0.],\n",
       "        [0., 0., 0.],\n",
       "        [0., 0., 0.],\n",
       "        ...,\n",
       "        [0., 0., 0.],\n",
       "        [0., 0., 0.],\n",
       "        [0., 0., 0.]],\n",
       "\n",
       "       [[0., 0., 0.],\n",
       "        [0., 0., 0.],\n",
       "        [0., 0., 0.],\n",
       "        ...,\n",
       "        [0., 0., 0.],\n",
       "        [0., 0., 0.],\n",
       "        [0., 0., 0.]],\n",
       "\n",
       "       [[0., 0., 0.],\n",
       "        [0., 0., 0.],\n",
       "        [0., 0., 0.],\n",
       "        ...,\n",
       "        [0., 0., 0.],\n",
       "        [0., 0., 0.],\n",
       "        [0., 0., 0.]],\n",
       "\n",
       "       ...,\n",
       "\n",
       "       [[0., 0., 0.],\n",
       "        [0., 0., 0.],\n",
       "        [0., 0., 0.],\n",
       "        ...,\n",
       "        [0., 0., 0.],\n",
       "        [0., 0., 0.],\n",
       "        [0., 0., 0.]],\n",
       "\n",
       "       [[0., 0., 0.],\n",
       "        [0., 0., 0.],\n",
       "        [0., 0., 0.],\n",
       "        ...,\n",
       "        [0., 0., 0.],\n",
       "        [0., 0., 0.],\n",
       "        [0., 0., 0.]],\n",
       "\n",
       "       [[0., 0., 0.],\n",
       "        [0., 0., 0.],\n",
       "        [0., 0., 0.],\n",
       "        ...,\n",
       "        [0., 0., 0.],\n",
       "        [0., 0., 0.],\n",
       "        [0., 0., 0.]]], dtype=float32)"
      ]
     },
     "execution_count": 32,
     "metadata": {},
     "output_type": "execute_result"
    }
   ],
   "source": [
    "x=image.img_to_array(img)\n",
    "x"
   ]
  },
  {
   "cell_type": "code",
   "execution_count": 33,
   "id": "cf547fad-ca82-46df-9389-06633af2ab5a",
   "metadata": {},
   "outputs": [
    {
     "data": {
      "text/plain": [
       "(224, 224, 3)"
      ]
     },
     "execution_count": 33,
     "metadata": {},
     "output_type": "execute_result"
    }
   ],
   "source": [
    "x.shape"
   ]
  },
  {
   "cell_type": "code",
   "execution_count": 34,
   "id": "01fac753-40b4-47b9-8ecc-b94f93343c37",
   "metadata": {},
   "outputs": [],
   "source": [
    "x=x/255"
   ]
  },
  {
   "cell_type": "code",
   "execution_count": 35,
   "id": "f62fd156-4046-4914-abbd-42dfd1e8527c",
   "metadata": {},
   "outputs": [
    {
     "data": {
      "text/plain": [
       "(1, 224, 224, 3)"
      ]
     },
     "execution_count": 35,
     "metadata": {},
     "output_type": "execute_result"
    }
   ],
   "source": [
    "x=np.expand_dims(x,axis=0)\n",
    "img_data=preprocess_input(x)\n",
    "img_data.shape"
   ]
  },
  {
   "cell_type": "code",
   "execution_count": 37,
   "id": "d24bd580-2691-4e6d-8b70-9c30a9824307",
   "metadata": {},
   "outputs": [
    {
     "name": "stdout",
     "output_type": "stream",
     "text": [
      "1/1 [==============================] - 1s 505ms/step\n"
     ]
    },
    {
     "data": {
      "text/plain": [
       "array([[0., 1.]], dtype=float32)"
      ]
     },
     "execution_count": 37,
     "metadata": {},
     "output_type": "execute_result"
    }
   ],
   "source": [
    "model.predict(img_data)"
   ]
  },
  {
   "cell_type": "code",
   "execution_count": 38,
   "id": "1294fc8e-d30f-46c8-8d3d-1934270fb573",
   "metadata": {},
   "outputs": [
    {
     "name": "stdout",
     "output_type": "stream",
     "text": [
      "1/1 [==============================] - 0s 93ms/step\n"
     ]
    }
   ],
   "source": [
    "a=np.argmax(model.predict(img_data),axis=1)\n"
   ]
  },
  {
   "cell_type": "code",
   "execution_count": 39,
   "id": "b8489d35-71f4-4c79-b56b-33817bf2bfd4",
   "metadata": {},
   "outputs": [
    {
     "name": "stdout",
     "output_type": "stream",
     "text": [
      "Uninfected\n"
     ]
    }
   ],
   "source": [
    "if(a==1):\n",
    "    print('Uninfected')\n",
    "else:\n",
    "    print('Infected')"
   ]
  },
  {
   "cell_type": "code",
   "execution_count": 40,
   "id": "cd8f8b43-303e-4b2f-8d5e-c88b694078b3",
   "metadata": {},
   "outputs": [],
   "source": [
    "from tensorflow.keras.applications.vgg16 import VGG16"
   ]
  },
  {
   "cell_type": "code",
   "execution_count": 41,
   "id": "72fadfb6-271e-43d0-b879-29a6a15e884d",
   "metadata": {},
   "outputs": [],
   "source": [
    "mobilnet = VGG16(input_shape=IMAGE_SIZE + [3], weights='imagenet', include_top=False)\n"
   ]
  },
  {
   "cell_type": "code",
   "execution_count": 42,
   "id": "8ad26454-10dd-47f5-90df-43c4fc44949a",
   "metadata": {},
   "outputs": [],
   "source": [
    "for layer in mobilnet.layers:\n",
    "    layer.trainable = False"
   ]
  },
  {
   "cell_type": "code",
   "execution_count": 43,
   "id": "712090e6-c7cc-4816-aae3-e4eb35c26769",
   "metadata": {},
   "outputs": [],
   "source": [
    "folders = glob('Dataset/Train/*')"
   ]
  },
  {
   "cell_type": "code",
   "execution_count": 44,
   "id": "7a175c2f-326d-4538-909c-604435d0a846",
   "metadata": {},
   "outputs": [
    {
     "data": {
      "text/plain": [
       "['Dataset/Train\\\\Parasite', 'Dataset/Train\\\\Uninfected']"
      ]
     },
     "execution_count": 44,
     "metadata": {},
     "output_type": "execute_result"
    }
   ],
   "source": [
    "folders"
   ]
  },
  {
   "cell_type": "code",
   "execution_count": 45,
   "id": "0e5d6257-c474-435e-b293-ead7aa64e7e0",
   "metadata": {},
   "outputs": [],
   "source": [
    "x = Flatten()(mobilnet.output)"
   ]
  },
  {
   "cell_type": "code",
   "execution_count": 46,
   "id": "1381326e-be8c-4a0b-bb07-7c5ac433f6ec",
   "metadata": {},
   "outputs": [],
   "source": [
    "prediction = Dense(len(folders), activation='softmax')(x)"
   ]
  },
  {
   "cell_type": "code",
   "execution_count": 48,
   "id": "da7db6d1-436c-41ce-88dc-4f86384a4c31",
   "metadata": {},
   "outputs": [],
   "source": [
    "model1 = Model(inputs=mobilnet.input, outputs=prediction)"
   ]
  },
  {
   "cell_type": "code",
   "execution_count": 49,
   "id": "5f433f82-d876-480e-b789-5a7bfb5b98e8",
   "metadata": {},
   "outputs": [
    {
     "name": "stdout",
     "output_type": "stream",
     "text": [
      "Model: \"model_2\"\n",
      "_________________________________________________________________\n",
      " Layer (type)                Output Shape              Param #   \n",
      "=================================================================\n",
      " input_2 (InputLayer)        [(None, 224, 224, 3)]     0         \n",
      "                                                                 \n",
      " block1_conv1 (Conv2D)       (None, 224, 224, 64)      1792      \n",
      "                                                                 \n",
      " block1_conv2 (Conv2D)       (None, 224, 224, 64)      36928     \n",
      "                                                                 \n",
      " block1_pool (MaxPooling2D)  (None, 112, 112, 64)      0         \n",
      "                                                                 \n",
      " block2_conv1 (Conv2D)       (None, 112, 112, 128)     73856     \n",
      "                                                                 \n",
      " block2_conv2 (Conv2D)       (None, 112, 112, 128)     147584    \n",
      "                                                                 \n",
      " block2_pool (MaxPooling2D)  (None, 56, 56, 128)       0         \n",
      "                                                                 \n",
      " block3_conv1 (Conv2D)       (None, 56, 56, 256)       295168    \n",
      "                                                                 \n",
      " block3_conv2 (Conv2D)       (None, 56, 56, 256)       590080    \n",
      "                                                                 \n",
      " block3_conv3 (Conv2D)       (None, 56, 56, 256)       590080    \n",
      "                                                                 \n",
      " block3_pool (MaxPooling2D)  (None, 28, 28, 256)       0         \n",
      "                                                                 \n",
      " block4_conv1 (Conv2D)       (None, 28, 28, 512)       1180160   \n",
      "                                                                 \n",
      " block4_conv2 (Conv2D)       (None, 28, 28, 512)       2359808   \n",
      "                                                                 \n",
      " block4_conv3 (Conv2D)       (None, 28, 28, 512)       2359808   \n",
      "                                                                 \n",
      " block4_pool (MaxPooling2D)  (None, 14, 14, 512)       0         \n",
      "                                                                 \n",
      " block5_conv1 (Conv2D)       (None, 14, 14, 512)       2359808   \n",
      "                                                                 \n",
      " block5_conv2 (Conv2D)       (None, 14, 14, 512)       2359808   \n",
      "                                                                 \n",
      " block5_conv3 (Conv2D)       (None, 14, 14, 512)       2359808   \n",
      "                                                                 \n",
      " block5_pool (MaxPooling2D)  (None, 7, 7, 512)         0         \n",
      "                                                                 \n",
      " flatten_2 (Flatten)         (None, 25088)             0         \n",
      "                                                                 \n",
      " dense_3 (Dense)             (None, 2)                 50178     \n",
      "                                                                 \n",
      "=================================================================\n",
      "Total params: 14764866 (56.32 MB)\n",
      "Trainable params: 50178 (196.01 KB)\n",
      "Non-trainable params: 14714688 (56.13 MB)\n",
      "_________________________________________________________________\n"
     ]
    }
   ],
   "source": [
    "model1.summary()"
   ]
  },
  {
   "cell_type": "code",
   "execution_count": 50,
   "id": "542eec13-18ac-4032-aaf2-a3d8af1de3f0",
   "metadata": {},
   "outputs": [],
   "source": [
    "from tensorflow.keras.layers import MaxPooling2D"
   ]
  },
  {
   "cell_type": "code",
   "execution_count": 51,
   "id": "0237c16c-4226-4ee7-9c26-ba76ade34839",
   "metadata": {},
   "outputs": [
    {
     "name": "stdout",
     "output_type": "stream",
     "text": [
      "Model: \"sequential_1\"\n",
      "_________________________________________________________________\n",
      " Layer (type)                Output Shape              Param #   \n",
      "=================================================================\n",
      " conv2d_3 (Conv2D)           (None, 224, 224, 16)      208       \n",
      "                                                                 \n",
      " max_pooling2d_3 (MaxPoolin  (None, 112, 112, 16)      0         \n",
      " g2D)                                                            \n",
      "                                                                 \n",
      " conv2d_4 (Conv2D)           (None, 112, 112, 32)      2080      \n",
      "                                                                 \n",
      " max_pooling2d_4 (MaxPoolin  (None, 56, 56, 32)        0         \n",
      " g2D)                                                            \n",
      "                                                                 \n",
      " conv2d_5 (Conv2D)           (None, 56, 56, 64)        8256      \n",
      "                                                                 \n",
      " max_pooling2d_5 (MaxPoolin  (None, 28, 28, 64)        0         \n",
      " g2D)                                                            \n",
      "                                                                 \n",
      " flatten_3 (Flatten)         (None, 50176)             0         \n",
      "                                                                 \n",
      " dense_4 (Dense)             (None, 500)               25088500  \n",
      "                                                                 \n",
      " dense_5 (Dense)             (None, 2)                 1002      \n",
      "                                                                 \n",
      "=================================================================\n",
      "Total params: 25100046 (95.75 MB)\n",
      "Trainable params: 25100046 (95.75 MB)\n",
      "Non-trainable params: 0 (0.00 Byte)\n",
      "_________________________________________________________________\n"
     ]
    }
   ],
   "source": [
    "model1=Sequential()\n",
    "model1.add(Conv2D(filters=16,kernel_size=2,padding=\"same\",activation=\"relu\",input_shape=(224,224,3)))\n",
    "model1.add(MaxPooling2D(pool_size=2))\n",
    "model1.add(Conv2D(filters=32,kernel_size=2,padding=\"same\",activation =\"relu\"))\n",
    "model1.add(MaxPooling2D(pool_size=2))\n",
    "model1.add(Conv2D(filters=64,kernel_size=2,padding=\"same\",activation=\"relu\"))\n",
    "model1.add(MaxPooling2D(pool_size=2))\n",
    "model1.add(Flatten())\n",
    "model1.add(Dense(500,activation=\"relu\"))\n",
    "model1.add(Dense(2,activation=\"softmax\"))\n",
    "model1.summary()"
   ]
  },
  {
   "cell_type": "code",
   "execution_count": 52,
   "id": "cbaf1fd1-7c16-4f07-bc8d-cb159a89d64a",
   "metadata": {},
   "outputs": [],
   "source": [
    "model1.compile(\n",
    "  loss='categorical_crossentropy',\n",
    "  optimizer='adam',\n",
    "  metrics=['accuracy']\n",
    ")\n"
   ]
  },
  {
   "cell_type": "code",
   "execution_count": 53,
   "id": "f914ee81-cdc0-4ab3-b094-6220d4f6ac92",
   "metadata": {},
   "outputs": [],
   "source": [
    "from tensorflow.keras.preprocessing.image import ImageDataGenerator\n",
    "\n",
    "train_datagen = ImageDataGenerator(rescale = 1./255,\n",
    "                                   shear_range = 0.2,\n",
    "                                   zoom_range = 0.2,\n",
    "                                   horizontal_flip = True)\n",
    "\n",
    "test_datagen = ImageDataGenerator(rescale = 1./255)"
   ]
  },
  {
   "cell_type": "code",
   "execution_count": 54,
   "id": "045878f3-e14a-4ddd-be68-2e3c5f8b65c2",
   "metadata": {},
   "outputs": [
    {
     "name": "stdout",
     "output_type": "stream",
     "text": [
      "Found 416 images belonging to 2 classes.\n"
     ]
    }
   ],
   "source": [
    "training_set = train_datagen.flow_from_directory('Dataset/Train',\n",
    "                                                 target_size = (224, 224),\n",
    "                                                 batch_size = 32,\n",
    "                                                 class_mode = 'categorical')"
   ]
  },
  {
   "cell_type": "code",
   "execution_count": 55,
   "id": "160ce6a1-e76b-4ef6-a412-64ee9f94a6fb",
   "metadata": {},
   "outputs": [
    {
     "name": "stdout",
     "output_type": "stream",
     "text": [
      "Found 134 images belonging to 2 classes.\n"
     ]
    }
   ],
   "source": [
    "test_set = test_datagen.flow_from_directory('Dataset/Test',\n",
    "                                            target_size = (224, 224),\n",
    "                                            batch_size = 32,\n",
    "                                            class_mode = 'categorical')"
   ]
  },
  {
   "cell_type": "code",
   "execution_count": 56,
   "id": "e61859ef-f8cf-4b46-952d-dfb52358fc25",
   "metadata": {},
   "outputs": [
    {
     "name": "stderr",
     "output_type": "stream",
     "text": [
      "C:\\Users\\User10\\AppData\\Local\\Temp\\ipykernel_1032\\3495312219.py:1: UserWarning: `Model.fit_generator` is deprecated and will be removed in a future version. Please use `Model.fit`, which supports generators.\n",
      "  r = model1.fit_generator(\n"
     ]
    },
    {
     "name": "stdout",
     "output_type": "stream",
     "text": [
      "Epoch 1/50\n",
      "13/13 [==============================] - 32s 971ms/step - loss: 1.0764 - accuracy: 0.5673 - val_loss: 0.6818 - val_accuracy: 0.5522\n",
      "Epoch 2/50\n",
      "13/13 [==============================] - 12s 917ms/step - loss: 0.6243 - accuracy: 0.6562 - val_loss: 0.8295 - val_accuracy: 0.3806\n",
      "Epoch 3/50\n",
      "13/13 [==============================] - 12s 937ms/step - loss: 0.5386 - accuracy: 0.7115 - val_loss: 1.1280 - val_accuracy: 0.3582\n",
      "Epoch 4/50\n",
      "13/13 [==============================] - 11s 820ms/step - loss: 0.4901 - accuracy: 0.7668 - val_loss: 0.9609 - val_accuracy: 0.3955\n",
      "Epoch 5/50\n",
      "13/13 [==============================] - 12s 928ms/step - loss: 0.4239 - accuracy: 0.7981 - val_loss: 1.4016 - val_accuracy: 0.3731\n",
      "Epoch 6/50\n",
      "13/13 [==============================] - 11s 830ms/step - loss: 0.4212 - accuracy: 0.7909 - val_loss: 0.8216 - val_accuracy: 0.4627\n",
      "Epoch 7/50\n",
      "13/13 [==============================] - 11s 817ms/step - loss: 0.3691 - accuracy: 0.8389 - val_loss: 1.2033 - val_accuracy: 0.4030\n",
      "Epoch 8/50\n",
      "13/13 [==============================] - 11s 841ms/step - loss: 0.3533 - accuracy: 0.8125 - val_loss: 1.7464 - val_accuracy: 0.3284\n",
      "Epoch 9/50\n",
      "13/13 [==============================] - 13s 948ms/step - loss: 0.3885 - accuracy: 0.8149 - val_loss: 0.8039 - val_accuracy: 0.5075\n",
      "Epoch 10/50\n",
      "13/13 [==============================] - 12s 947ms/step - loss: 0.3742 - accuracy: 0.8510 - val_loss: 0.5842 - val_accuracy: 0.6493\n",
      "Epoch 11/50\n",
      "13/13 [==============================] - 11s 856ms/step - loss: 0.2764 - accuracy: 0.8894 - val_loss: 0.7140 - val_accuracy: 0.5970\n",
      "Epoch 12/50\n",
      "13/13 [==============================] - 11s 825ms/step - loss: 0.2230 - accuracy: 0.9087 - val_loss: 0.7478 - val_accuracy: 0.5522\n",
      "Epoch 13/50\n",
      "13/13 [==============================] - 12s 888ms/step - loss: 0.2462 - accuracy: 0.9014 - val_loss: 0.8649 - val_accuracy: 0.5746\n",
      "Epoch 14/50\n",
      "13/13 [==============================] - 11s 841ms/step - loss: 0.2297 - accuracy: 0.9231 - val_loss: 0.5504 - val_accuracy: 0.7239\n",
      "Epoch 15/50\n",
      "13/13 [==============================] - 12s 916ms/step - loss: 0.2088 - accuracy: 0.9135 - val_loss: 0.5446 - val_accuracy: 0.7612\n",
      "Epoch 16/50\n",
      "13/13 [==============================] - 12s 910ms/step - loss: 0.2224 - accuracy: 0.9087 - val_loss: 0.4612 - val_accuracy: 0.7985\n",
      "Epoch 17/50\n",
      "13/13 [==============================] - 12s 871ms/step - loss: 0.1764 - accuracy: 0.9375 - val_loss: 0.5158 - val_accuracy: 0.7239\n",
      "Epoch 18/50\n",
      "13/13 [==============================] - 13s 971ms/step - loss: 0.1449 - accuracy: 0.9495 - val_loss: 0.4238 - val_accuracy: 0.8134\n",
      "Epoch 19/50\n",
      "13/13 [==============================] - 12s 901ms/step - loss: 0.1265 - accuracy: 0.9471 - val_loss: 0.4729 - val_accuracy: 0.7910\n",
      "Epoch 20/50\n",
      "13/13 [==============================] - 13s 971ms/step - loss: 0.1687 - accuracy: 0.9351 - val_loss: 0.3959 - val_accuracy: 0.8358\n",
      "Epoch 21/50\n",
      "13/13 [==============================] - 12s 943ms/step - loss: 0.1954 - accuracy: 0.9495 - val_loss: 0.3747 - val_accuracy: 0.8209\n",
      "Epoch 22/50\n",
      "13/13 [==============================] - 13s 974ms/step - loss: 0.1299 - accuracy: 0.9591 - val_loss: 0.4628 - val_accuracy: 0.7910\n",
      "Epoch 23/50\n",
      "13/13 [==============================] - 14s 1s/step - loss: 0.1151 - accuracy: 0.9543 - val_loss: 0.4685 - val_accuracy: 0.7910\n",
      "Epoch 24/50\n",
      "13/13 [==============================] - 12s 896ms/step - loss: 0.1010 - accuracy: 0.9615 - val_loss: 0.4354 - val_accuracy: 0.8209\n",
      "Epoch 25/50\n",
      "13/13 [==============================] - 13s 1s/step - loss: 0.1048 - accuracy: 0.9591 - val_loss: 0.3539 - val_accuracy: 0.8358\n",
      "Epoch 26/50\n",
      "13/13 [==============================] - 15s 1s/step - loss: 0.0786 - accuracy: 0.9688 - val_loss: 0.3954 - val_accuracy: 0.7985\n",
      "Epoch 27/50\n",
      "13/13 [==============================] - 15s 1s/step - loss: 0.1071 - accuracy: 0.9663 - val_loss: 0.3754 - val_accuracy: 0.8134\n",
      "Epoch 28/50\n",
      "13/13 [==============================] - 14s 1s/step - loss: 0.1132 - accuracy: 0.9615 - val_loss: 0.5043 - val_accuracy: 0.7612\n",
      "Epoch 29/50\n",
      "13/13 [==============================] - 12s 853ms/step - loss: 0.0940 - accuracy: 0.9712 - val_loss: 0.3816 - val_accuracy: 0.8284\n",
      "Epoch 30/50\n",
      "13/13 [==============================] - 12s 888ms/step - loss: 0.0750 - accuracy: 0.9808 - val_loss: 0.4929 - val_accuracy: 0.7985\n",
      "Epoch 31/50\n",
      "13/13 [==============================] - 15s 1s/step - loss: 0.0758 - accuracy: 0.9760 - val_loss: 0.8107 - val_accuracy: 0.7313\n",
      "Epoch 32/50\n",
      "13/13 [==============================] - 22s 2s/step - loss: 0.0988 - accuracy: 0.9663 - val_loss: 0.1977 - val_accuracy: 0.9179\n",
      "Epoch 33/50\n",
      "13/13 [==============================] - 27s 2s/step - loss: 0.0633 - accuracy: 0.9808 - val_loss: 0.2132 - val_accuracy: 0.8955\n",
      "Epoch 34/50\n",
      "13/13 [==============================] - 24s 2s/step - loss: 0.0633 - accuracy: 0.9832 - val_loss: 0.2841 - val_accuracy: 0.8657\n",
      "Epoch 35/50\n",
      "13/13 [==============================] - 23s 2s/step - loss: 0.1054 - accuracy: 0.9663 - val_loss: 0.2679 - val_accuracy: 0.8955\n",
      "Epoch 36/50\n",
      "13/13 [==============================] - 25s 2s/step - loss: 0.0834 - accuracy: 0.9760 - val_loss: 0.1752 - val_accuracy: 0.9254\n",
      "Epoch 37/50\n",
      "13/13 [==============================] - 22s 2s/step - loss: 0.0619 - accuracy: 0.9808 - val_loss: 0.2626 - val_accuracy: 0.8731\n",
      "Epoch 38/50\n",
      "13/13 [==============================] - 20s 1s/step - loss: 0.0937 - accuracy: 0.9591 - val_loss: 0.2784 - val_accuracy: 0.8657\n",
      "Epoch 39/50\n",
      "13/13 [==============================] - 15s 1s/step - loss: 0.0640 - accuracy: 0.9832 - val_loss: 0.3363 - val_accuracy: 0.8433\n",
      "Epoch 40/50\n",
      "13/13 [==============================] - 19s 1s/step - loss: 0.0664 - accuracy: 0.9808 - val_loss: 0.2068 - val_accuracy: 0.8881\n",
      "Epoch 41/50\n",
      "13/13 [==============================] - 13s 963ms/step - loss: 0.0432 - accuracy: 0.9856 - val_loss: 0.1833 - val_accuracy: 0.9254\n",
      "Epoch 42/50\n",
      "13/13 [==============================] - 13s 1s/step - loss: 0.0502 - accuracy: 0.9856 - val_loss: 0.4042 - val_accuracy: 0.8507\n",
      "Epoch 43/50\n",
      "13/13 [==============================] - 16s 1s/step - loss: 0.0277 - accuracy: 0.9904 - val_loss: 0.2288 - val_accuracy: 0.8955\n",
      "Epoch 44/50\n",
      "13/13 [==============================] - 16s 1s/step - loss: 0.0335 - accuracy: 0.9856 - val_loss: 0.4890 - val_accuracy: 0.8358\n",
      "Epoch 45/50\n",
      "13/13 [==============================] - 14s 1s/step - loss: 0.0345 - accuracy: 0.9880 - val_loss: 0.2093 - val_accuracy: 0.9328\n",
      "Epoch 46/50\n",
      "13/13 [==============================] - 14s 1s/step - loss: 0.0455 - accuracy: 0.9856 - val_loss: 0.2029 - val_accuracy: 0.9030\n",
      "Epoch 47/50\n",
      "13/13 [==============================] - 14s 1s/step - loss: 0.0407 - accuracy: 0.9904 - val_loss: 0.4757 - val_accuracy: 0.8284\n",
      "Epoch 48/50\n",
      "13/13 [==============================] - 14s 1s/step - loss: 0.0494 - accuracy: 0.9880 - val_loss: 0.3835 - val_accuracy: 0.8582\n",
      "Epoch 49/50\n",
      "13/13 [==============================] - 14s 1s/step - loss: 0.0328 - accuracy: 0.9904 - val_loss: 0.1688 - val_accuracy: 0.9328\n",
      "Epoch 50/50\n",
      "13/13 [==============================] - 12s 898ms/step - loss: 0.0295 - accuracy: 0.9928 - val_loss: 0.2882 - val_accuracy: 0.9104\n"
     ]
    }
   ],
   "source": [
    "r = model1.fit_generator(\n",
    "  training_set,\n",
    "  validation_data=test_set,\n",
    "  epochs=50,\n",
    "  steps_per_epoch=len(training_set),\n",
    "  validation_steps=len(test_set)\n",
    ")"
   ]
  },
  {
   "cell_type": "code",
   "execution_count": 57,
   "id": "dafcf2e6-9c07-48c4-910a-f8862bc6d68c",
   "metadata": {},
   "outputs": [
    {
     "data": {
      "image/png": "[encoded data removed]",
      "text/plain": [
       "<Figure size 640x480 with 1 Axes>"
      ]
     },
     "metadata": {},
     "output_type": "display_data"
    },
    {
     "data": {
      "text/plain": [
       "<Figure size 640x480 with 0 Axes>"
      ]
     },
     "metadata": {},
     "output_type": "display_data"
    }
   ],
   "source": [
    "plt.plot(r.history['loss'], label='train loss')\n",
    "plt.plot(r.history['val_loss'], label='val loss')\n",
    "plt.legend()\n",
    "plt.show()\n",
    "plt.savefig('LossVal_loss')"
   ]
  },
  {
   "cell_type": "code",
   "execution_count": 58,
   "id": "da36097f-0743-4a41-9ef1-04482417a66d",
   "metadata": {},
   "outputs": [
    {
     "data": {
      "image/png": "[encoded data removed]",
      "text/plain": [
       "<Figure size 640x480 with 1 Axes>"
      ]
     },
     "metadata": {},
     "output_type": "display_data"
    },
    {
     "data": {
      "text/plain": [
       "<Figure size 640x480 with 0 Axes>"
      ]
     },
     "metadata": {},
     "output_type": "display_data"
    }
   ],
   "source": [
    "plt.plot(r.history['accuracy'], label='train acc')\n",
    "plt.plot(r.history['val_accuracy'], label='val acc')\n",
    "plt.legend()\n",
    "plt.show()\n",
    "plt.savefig('AccVal_acc')"
   ]
  },
  {
   "cell_type": "code",
   "execution_count": 59,
   "id": "3e339468-bde0-4db2-aeff-f8892aac3c8d",
   "metadata": {},
   "outputs": [],
   "source": [
    "from tensorflow.keras.models import load_model\n",
    "model1.save('model_vgg16.h5')"
   ]
  },
  {
   "cell_type": "code",
   "execution_count": 60,
   "id": "c8001b02-8c4e-4a8e-beee-20193c5433da",
   "metadata": {},
   "outputs": [
    {
     "name": "stdout",
     "output_type": "stream",
     "text": [
      "5/5 [==============================] - 9s 198ms/step\n"
     ]
    }
   ],
   "source": [
    "y_pred = model1.predict(test_set)"
   ]
  },
  {
   "cell_type": "code",
   "execution_count": 61,
   "id": "9f89a8a5-57f7-4e7e-89ea-1f25926edf69",
   "metadata": {},
   "outputs": [
    {
     "data": {
      "text/plain": [
       "array([[8.60690773e-01, 1.39309242e-01],\n",
       "       [9.11099538e-02, 9.08890069e-01],\n",
       "       [2.97772825e-01, 7.02227116e-01],\n",
       "       [5.75776096e-04, 9.99424219e-01],\n",
       "       [9.99687552e-01, 3.12483840e-04],\n",
       "       [9.72329557e-01, 2.76704561e-02],\n",
       "       [9.99967575e-01, 3.24493958e-05],\n",
       "       [5.81639644e-04, 9.99418378e-01],\n",
       "       [9.98622537e-01, 1.37742341e-03],\n",
       "       [9.99761164e-01, 2.38873341e-04],\n",
       "       [9.99688029e-01, 3.11982876e-04],\n",
       "       [5.81453815e-02, 9.41854596e-01],\n",
       "       [6.84503291e-04, 9.99315500e-01],\n",
       "       [9.99991775e-01, 8.23393566e-06],\n",
       "       [9.99800146e-01, 1.99881149e-04],\n",
       "       [1.26243718e-02, 9.87375617e-01],\n",
       "       [9.37057674e-01, 6.29423410e-02],\n",
       "       [9.99810755e-01, 1.89273313e-04],\n",
       "       [4.16622490e-01, 5.83377481e-01],\n",
       "       [6.96134614e-03, 9.93038714e-01],\n",
       "       [1.00000000e+00, 2.42243920e-12],\n",
       "       [8.67788568e-02, 9.13221121e-01],\n",
       "       [9.99986649e-01, 1.32994228e-05],\n",
       "       [9.99900460e-01, 9.95090668e-05],\n",
       "       [3.43001969e-02, 9.65699792e-01],\n",
       "       [9.99963284e-01, 3.66943314e-05],\n",
       "       [9.99097466e-01, 9.02505999e-04],\n",
       "       [5.16397059e-01, 4.83602971e-01],\n",
       "       [9.99908209e-01, 9.18237856e-05],\n",
       "       [1.81099016e-03, 9.98189032e-01],\n",
       "       [9.98990119e-01, 1.00990094e-03],\n",
       "       [9.92641032e-01, 7.35897431e-03],\n",
       "       [2.49090861e-03, 9.97509122e-01],\n",
       "       [9.01923776e-01, 9.80761945e-02],\n",
       "       [9.99783814e-01, 2.16168803e-04],\n",
       "       [8.59305739e-01, 1.40694216e-01],\n",
       "       [4.41587985e-01, 5.58412015e-01],\n",
       "       [1.71186756e-02, 9.82881308e-01],\n",
       "       [1.26203382e-03, 9.98737991e-01],\n",
       "       [9.31678116e-01, 6.83218539e-02],\n",
       "       [9.99664426e-01, 3.35588091e-04],\n",
       "       [9.87750232e-01, 1.22497296e-02],\n",
       "       [9.98291194e-01, 1.70877238e-03],\n",
       "       [9.99909639e-01, 9.03485270e-05],\n",
       "       [6.76554859e-01, 3.23445141e-01],\n",
       "       [9.99986887e-01, 1.31104680e-05],\n",
       "       [9.99785483e-01, 2.14514526e-04],\n",
       "       [1.42913833e-01, 8.57086122e-01],\n",
       "       [6.38387278e-02, 9.36161280e-01],\n",
       "       [9.99997020e-01, 3.00564784e-06],\n",
       "       [6.40097260e-02, 9.35990274e-01],\n",
       "       [1.52188513e-04, 9.99847770e-01],\n",
       "       [9.99981046e-01, 1.89371003e-05],\n",
       "       [1.00000000e+00, 1.07988840e-09],\n",
       "       [9.98882353e-01, 1.11769268e-03],\n",
       "       [1.12948474e-02, 9.88705218e-01],\n",
       "       [4.41123149e-04, 9.99558866e-01],\n",
       "       [9.99997735e-01, 2.22119115e-06],\n",
       "       [1.00000000e+00, 1.86346771e-10],\n",
       "       [9.99598444e-01, 4.01593570e-04],\n",
       "       [4.10793116e-03, 9.95892048e-01],\n",
       "       [4.76665935e-03, 9.95233357e-01],\n",
       "       [2.69312337e-02, 9.73068774e-01],\n",
       "       [9.81483981e-03, 9.90185142e-01],\n",
       "       [1.00000000e+00, 2.14336361e-12],\n",
       "       [9.99732196e-01, 2.67836265e-04],\n",
       "       [8.18577111e-02, 9.18142319e-01],\n",
       "       [9.99745429e-01, 2.54549988e-04],\n",
       "       [7.57265508e-01, 2.42734462e-01],\n",
       "       [9.99998808e-01, 1.24561211e-06],\n",
       "       [7.49463379e-01, 2.50536650e-01],\n",
       "       [5.11599053e-03, 9.94883955e-01],\n",
       "       [9.99877691e-01, 1.22308411e-04],\n",
       "       [9.99798000e-01, 2.01978197e-04],\n",
       "       [9.92103696e-01, 7.89624918e-03],\n",
       "       [9.99999285e-01, 7.46906949e-07],\n",
       "       [1.34294089e-02, 9.86570537e-01],\n",
       "       [9.99885917e-01, 1.14074297e-04],\n",
       "       [9.99987841e-01, 1.22134843e-05],\n",
       "       [6.22450374e-03, 9.93775487e-01],\n",
       "       [1.07910973e-03, 9.98920918e-01],\n",
       "       [3.99981253e-03, 9.96000111e-01],\n",
       "       [9.98315215e-01, 1.68479490e-03],\n",
       "       [9.99999642e-01, 4.07303844e-07],\n",
       "       [9.99419093e-01, 5.80873457e-04],\n",
       "       [9.99802887e-01, 1.97107773e-04],\n",
       "       [8.31862926e-01, 1.68137088e-01],\n",
       "       [9.99992132e-01, 7.92207356e-06],\n",
       "       [1.69452152e-03, 9.98305440e-01],\n",
       "       [5.71044907e-03, 9.94289517e-01],\n",
       "       [9.98379827e-01, 1.62020174e-03],\n",
       "       [9.92241502e-01, 7.75852799e-03],\n",
       "       [9.32553224e-03, 9.90674436e-01],\n",
       "       [9.99997973e-01, 1.96760971e-06],\n",
       "       [9.99991298e-01, 8.72857981e-06],\n",
       "       [9.99662280e-01, 3.37754289e-04],\n",
       "       [1.00000000e+00, 5.23696606e-08],\n",
       "       [1.05805183e-02, 9.89419460e-01],\n",
       "       [1.09801674e-02, 9.89019811e-01],\n",
       "       [9.99999881e-01, 7.74986830e-08],\n",
       "       [9.99836445e-01, 1.63486067e-04],\n",
       "       [2.89811590e-03, 9.97101843e-01],\n",
       "       [3.35782906e-03, 9.96642232e-01],\n",
       "       [9.99999404e-01, 6.40728729e-07],\n",
       "       [1.63730085e-02, 9.83626962e-01],\n",
       "       [1.00000000e+00, 1.08468035e-08],\n",
       "       [9.77749884e-01, 2.22500693e-02],\n",
       "       [2.29576998e-03, 9.97704208e-01],\n",
       "       [1.41050825e-02, 9.85894918e-01],\n",
       "       [8.99598673e-02, 9.10040140e-01],\n",
       "       [9.96704757e-01, 3.29522253e-03],\n",
       "       [9.99936819e-01, 6.31292423e-05],\n",
       "       [1.26402695e-02, 9.87359703e-01],\n",
       "       [8.24986026e-02, 9.17501390e-01],\n",
       "       [5.51139761e-04, 9.99448836e-01],\n",
       "       [9.99700308e-01, 2.99703184e-04],\n",
       "       [7.43668258e-01, 2.56331742e-01],\n",
       "       [4.76535002e-04, 9.99523520e-01],\n",
       "       [9.85562444e-01, 1.44375144e-02],\n",
       "       [7.16580020e-04, 9.99283493e-01],\n",
       "       [4.08121943e-02, 9.59187865e-01],\n",
       "       [1.08612832e-02, 9.89138663e-01],\n",
       "       [9.98228848e-01, 1.77114503e-03],\n",
       "       [9.96086717e-01, 3.91332153e-03],\n",
       "       [6.81227669e-02, 9.31877255e-01],\n",
       "       [9.99052823e-01, 9.47207503e-04],\n",
       "       [1.46266015e-03, 9.98537302e-01],\n",
       "       [2.65862967e-04, 9.99734104e-01],\n",
       "       [9.99854684e-01, 1.45342070e-04],\n",
       "       [1.00000000e+00, 4.35957910e-12],\n",
       "       [9.37562525e-01, 6.24374524e-02],\n",
       "       [9.98991668e-01, 1.00828637e-03],\n",
       "       [9.99230862e-01, 7.69163249e-04],\n",
       "       [8.66944969e-01, 1.33054987e-01]], dtype=float32)"
      ]
     },
     "execution_count": 61,
     "metadata": {},
     "output_type": "execute_result"
    }
   ],
   "source": [
    "y_pred"
   ]
  },
  {
   "cell_type": "code",
   "execution_count": 62,
   "id": "0aad256f-4e22-4002-90c4-05dd0119bde9",
   "metadata": {},
   "outputs": [],
   "source": [
    "import numpy as np\n",
    "y_pred = np.argmax(y_pred, axis=1)"
   ]
  },
  {
   "cell_type": "code",
   "execution_count": 63,
   "id": "a88d1143-f0ca-4af2-8239-8343bd9bbefb",
   "metadata": {},
   "outputs": [
    {
     "data": {
      "text/plain": [
       "array([0, 1, 1, 1, 0, 0, 0, 1, 0, 0, 0, 1, 1, 0, 0, 1, 0, 0, 1, 1, 0, 1,\n",
       "       0, 0, 1, 0, 0, 0, 0, 1, 0, 0, 1, 0, 0, 0, 1, 1, 1, 0, 0, 0, 0, 0,\n",
       "       0, 0, 0, 1, 1, 0, 1, 1, 0, 0, 0, 1, 1, 0, 0, 0, 1, 1, 1, 1, 0, 0,\n",
       "       1, 0, 0, 0, 0, 1, 0, 0, 0, 0, 1, 0, 0, 1, 1, 1, 0, 0, 0, 0, 0, 0,\n",
       "       1, 1, 0, 0, 1, 0, 0, 0, 0, 1, 1, 0, 0, 1, 1, 0, 1, 0, 0, 1, 1, 1,\n",
       "       0, 0, 1, 1, 1, 0, 0, 1, 0, 1, 1, 1, 0, 0, 1, 0, 1, 1, 0, 0, 0, 0,\n",
       "       0, 0], dtype=int64)"
      ]
     },
     "execution_count": 63,
     "metadata": {},
     "output_type": "execute_result"
    }
   ],
   "source": [
    "y_pred"
   ]
  },
  {
   "cell_type": "code",
   "execution_count": 64,
   "id": "c873ecd6-5f5b-426a-963a-7d002bd0cc6f",
   "metadata": {},
   "outputs": [],
   "source": [
    "from tensorflow.keras.preprocessing import image"
   ]
  },
  {
   "cell_type": "code",
   "execution_count": 67,
   "id": "9f4db127-3589-4ae0-8540-95ac1354fe63",
   "metadata": {},
   "outputs": [],
   "source": [
    "img=image.load_img('Dataset/Test/Uninfected/2.png',target_size=(224,224))\n"
   ]
  },
  {
   "cell_type": "code",
   "execution_count": 68,
   "id": "17c50fec-9e0d-479b-b8b5-67ad9d66129e",
   "metadata": {},
   "outputs": [
    {
     "data": {
      "text/plain": [
       "array([[[0., 0., 0.],\n",
       "        [0., 0., 0.],\n",
       "        [0., 0., 0.],\n",
       "        ...,\n",
       "        [0., 0., 0.],\n",
       "        [0., 0., 0.],\n",
       "        [0., 0., 0.]],\n",
       "\n",
       "       [[0., 0., 0.],\n",
       "        [0., 0., 0.],\n",
       "        [0., 0., 0.],\n",
       "        ...,\n",
       "        [0., 0., 0.],\n",
       "        [0., 0., 0.],\n",
       "        [0., 0., 0.]],\n",
       "\n",
       "       [[0., 0., 0.],\n",
       "        [0., 0., 0.],\n",
       "        [0., 0., 0.],\n",
       "        ...,\n",
       "        [0., 0., 0.],\n",
       "        [0., 0., 0.],\n",
       "        [0., 0., 0.]],\n",
       "\n",
       "       ...,\n",
       "\n",
       "       [[0., 0., 0.],\n",
       "        [0., 0., 0.],\n",
       "        [0., 0., 0.],\n",
       "        ...,\n",
       "        [0., 0., 0.],\n",
       "        [0., 0., 0.],\n",
       "        [0., 0., 0.]],\n",
       "\n",
       "       [[0., 0., 0.],\n",
       "        [0., 0., 0.],\n",
       "        [0., 0., 0.],\n",
       "        ...,\n",
       "        [0., 0., 0.],\n",
       "        [0., 0., 0.],\n",
       "        [0., 0., 0.]],\n",
       "\n",
       "       [[0., 0., 0.],\n",
       "        [0., 0., 0.],\n",
       "        [0., 0., 0.],\n",
       "        ...,\n",
       "        [0., 0., 0.],\n",
       "        [0., 0., 0.],\n",
       "        [0., 0., 0.]]], dtype=float32)"
      ]
     },
     "execution_count": 68,
     "metadata": {},
     "output_type": "execute_result"
    }
   ],
   "source": [
    "x=image.img_to_array(img)\n",
    "x"
   ]
  },
  {
   "cell_type": "code",
   "execution_count": 69,
   "id": "b27a81ba-beee-4b66-822f-28cea596e709",
   "metadata": {},
   "outputs": [
    {
     "data": {
      "text/plain": [
       "(224, 224, 3)"
      ]
     },
     "execution_count": 69,
     "metadata": {},
     "output_type": "execute_result"
    }
   ],
   "source": [
    "x.shape"
   ]
  },
  {
   "cell_type": "code",
   "execution_count": 70,
   "id": "b6df13d8-5303-41d8-934a-df427ac2a2b8",
   "metadata": {},
   "outputs": [],
   "source": [
    "x=x/255"
   ]
  },
  {
   "cell_type": "code",
   "execution_count": 71,
   "id": "c0101d65-534f-4d5f-9259-32b1b826e611",
   "metadata": {},
   "outputs": [
    {
     "data": {
      "text/plain": [
       "(1, 224, 224, 3)"
      ]
     },
     "execution_count": 71,
     "metadata": {},
     "output_type": "execute_result"
    }
   ],
   "source": [
    "x=np.expand_dims(x,axis=0)\n",
    "img_data=preprocess_input(x)\n",
    "img_data.shape"
   ]
  },
  {
   "cell_type": "code",
   "execution_count": 72,
   "id": "70f1426c-15b1-4d53-8754-692e31accd29",
   "metadata": {},
   "outputs": [
    {
     "name": "stdout",
     "output_type": "stream",
     "text": [
      "1/1 [==============================] - 0s 396ms/step\n"
     ]
    },
    {
     "data": {
      "text/plain": [
       "array([[0., 1.]], dtype=float32)"
      ]
     },
     "execution_count": 72,
     "metadata": {},
     "output_type": "execute_result"
    }
   ],
   "source": [
    "model1.predict(img_data)"
   ]
  },
  {
   "cell_type": "code",
   "execution_count": 73,
   "id": "ac25215b-60b6-410d-a2c8-4ca9cc4169fe",
   "metadata": {},
   "outputs": [
    {
     "name": "stdout",
     "output_type": "stream",
     "text": [
      "1/1 [==============================] - 0s 66ms/step\n"
     ]
    }
   ],
   "source": [
    "a=np.argmax(model1.predict(img_data), axis=1)"
   ]
  },
  {
   "cell_type": "code",
   "execution_count": 74,
   "id": "055be370-3873-423c-b3d9-eff8681774d9",
   "metadata": {},
   "outputs": [
    {
     "name": "stdout",
     "output_type": "stream",
     "text": [
      "Uninfected\n"
     ]
    }
   ],
   "source": [
    "if(a==1):\n",
    "    print(\"Uninfected\")\n",
    "else:\n",
    "    print(\"Infected\")"
   ]
  },
  {
   "cell_type": "code",
   "execution_count": null,
   "id": "12c07d88-a479-4cb8-8152-d654c2e5b186",
   "metadata": {},
   "outputs": [],
   "source": []
  }
 ],
 "metadata": {
  "kernelspec": {
   "display_name": "Python 3 (ipykernel)",
   "language": "python",
   "name": "python3"
  },
  "language_info": {
   "codemirror_mode": {
    "name": "ipython",
    "version": 3
   },
   "file_extension": ".py",
   "mimetype": "text/x-python",
   "name": "python",
   "nbconvert_exporter": "python",
   "pygments_lexer": "ipython3",
   "version": "3.11.7"
  }
 },
 "nbformat": 4,
 "nbformat_minor": 5
}
